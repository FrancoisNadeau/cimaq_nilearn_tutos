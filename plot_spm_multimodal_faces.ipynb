{
 "cells": [
  {
   "cell_type": "code",
   "execution_count": 6,
   "metadata": {},
   "outputs": [],
   "source": [
    "%matplotlib inline"
   ]
  },
  {
   "cell_type": "markdown",
   "metadata": {},
   "source": [
    "\n",
    "# Single-subject data (two sessions) in native space\n",
    "\n",
    "The example shows the analysis of an SPM dataset studying face perception.  The\n",
    "anaylsis is performed in native space. Realignment parameters are provided with\n",
    "the input images, but those have not been resampled to a common space.\n",
    "\n",
    "The experimental paradigm is simple, with two conditions; viewing a face image\n",
    "or a scrambled face image, supposedly with the same low-level statistical\n",
    "properties, to find face-specific responses.\n",
    "\n",
    "For details on the data, please see:\n",
    "Henson, R.N., Goshen-Gottstein, Y., Ganel, T., Otten, L.J., Quayle, A.,\n",
    "Rugg, M.D. Electrophysiological and haemodynamic correlates of face\n",
    "perception, recognition and priming. Cereb Cortex. 2003 Jul;13(7):793-805.\n",
    "http://www.dx.doi.org/10.1093/cercor/13.7.793\n",
    "\n",
    "This example takes a lot of time because the input are lists of 3D images\n",
    "sampled in different positions (encoded by different affine functions).\n"
   ]
  },
  {
   "cell_type": "markdown",
   "metadata": {},
   "source": [
    "Fetch the SPM multimodal_faces data.\n",
    "\n"
   ]
  },
  {
   "cell_type": "code",
   "execution_count": 7,
   "metadata": {},
   "outputs": [
    {
     "name": "stderr",
     "output_type": "stream",
     "text": [
      "/home/fnadeau/myenv/lib/python3.7/site-packages/nilearn/datasets/__init__.py:89: FutureWarning: Fetchers from the nilearn.datasets module will be updated in version 0.9 to return python strings instead of bytes and Pandas dataframes instead of Numpy arrays.\n",
      "  \"Numpy arrays.\", FutureWarning)\n"
     ]
    }
   ],
   "source": [
    "from nilearn.datasets import fetch_spm_multimodal_fmri\n",
    "import os\n",
    "subject_data = fetch_spm_multimodal_fmri(data_dir=os.path.join(\n",
    "        os.path.dirname(os.getcwd()),'spm_multimodal_fmri'))"
   ]
  },
  {
   "cell_type": "markdown",
   "metadata": {},
   "source": [
    "Specfiy timing and design matrix parameters.\n",
    "\n"
   ]
  },
  {
   "cell_type": "code",
   "execution_count": 8,
   "metadata": {},
   "outputs": [],
   "source": [
    "tr = 2.  # repetition time, in seconds\n",
    "slice_time_ref = 0.  # we will sample the design matrix at the beggining of each acquisition\n",
    "drift_model = 'Cosine'  # We use a discrete cosine transform to model signal drifts.\n",
    "high_pass = .01  # The cutoff for the drift model is 0.01 Hz.\n",
    "hrf_model = 'spm + derivative'  # The hemodynamic response function is the SPM canonical one."
   ]
  },
  {
   "cell_type": "markdown",
   "metadata": {},
   "source": [
    "Resample the images.\n",
    "\n",
    "This is achieved by the concat_imgs function of Nilearn.\n",
    "\n"
   ]
  },
  {
   "cell_type": "code",
   "execution_count": 10,
   "metadata": {},
   "outputs": [
    {
     "name": "stdout",
     "output_type": "stream",
     "text": [
      "Resampling the second image (this takes time)...\n"
     ]
    }
   ],
   "source": [
    "import warnings\n",
    "warnings.filterwarnings('ignore')\n",
    "from nilearn.image import concat_imgs, resample_img, mean_img\n",
    "fmri_img = [concat_imgs(subject_data.func1, auto_resample=True),\n",
    "            concat_imgs(subject_data.func2, auto_resample=True)]\n",
    "affine, shape = fmri_img[0].affine, fmri_img[0].shape\n",
    "print('Resampling the second image (this takes time)...')\n",
    "fmri_img[1] = resample_img(fmri_img[1], affine, shape[:3])"
   ]
  },
  {
   "cell_type": "code",
   "execution_count": 44,
   "metadata": {},
   "outputs": [],
   "source": [
    "import loadutils as lu\n",
    "import nibabel as nib\n",
    "img_files = [itm for itm in lu.flatten(list(subject_data.values())) if itm.endswith('.img')]\n",
    "smri_img = nib.load('/data/cisl/DATA/spm_multimodal_fmri/spm_multimodal_fmri/sub001/sMRI/smri.img')\n",
    "smri_header = dict(smri_img.header)\n",
    "# smri_header\n",
    "session1_imgs = img_files[:int(len(img_files)/2)]\n",
    "# [nib.load(img).shape for img in session1_imgs]\n",
    "mean_concat_s1_imgs = mean_img(concat_imgs(session1_imgs, auto_resample=True))"
   ]
  },
  {
   "cell_type": "markdown",
   "metadata": {},
   "source": [
    "Let's create mean image for display purposes.\n",
    "\n"
   ]
  },
  {
   "cell_type": "code",
   "execution_count": 45,
   "metadata": {},
   "outputs": [],
   "source": [
    "mean_image = mean_img(fmri_img)"
   ]
  },
  {
   "cell_type": "code",
   "execution_count": 48,
   "metadata": {},
   "outputs": [
    {
     "data": {
      "text/plain": [
       "array([[ True,  True,  True,  True],\n",
       "       [ True,  True,  True,  True],\n",
       "       [ True,  True,  True,  True],\n",
       "       [ True,  True,  True,  True]])"
      ]
     },
     "execution_count": 48,
     "metadata": {},
     "output_type": "execute_result"
    }
   ],
   "source": [
    "mean_concat_s1_imgs.affine == mean_image.affine"
   ]
  },
  {
   "cell_type": "code",
   "execution_count": 49,
   "metadata": {},
   "outputs": [
    {
     "data": {
      "text/plain": [
       "({'__header__': b'MATLAB 5.0 MAT-file, Platform: GLNX86, Created on: Wed Sep  9 15:02:37 2009',\n",
       "  '__version__': '1.0',\n",
       "  '__globals__': [],\n",
       "  'names': array([[array(['faces'], dtype='<U5')],\n",
       "         [array(['scrambled'], dtype='<U9')]], dtype=object),\n",
       "  'onsets': array([[array([[  7.8615,  12.394 ,  44.119 ,  57.713 ,  62.2435,  63.755 ,\n",
       "           69.7985,  74.3365,  78.8685, 101.528 , 106.0615, 110.5935,\n",
       "          112.105 , 113.6155, 115.1265, 116.6375, 121.1705, 128.7235,\n",
       "          133.2535, 136.2745, 142.3235, 145.3495, 149.8795, 168.011 ,\n",
       "          171.0325, 174.0525, 183.115 , 199.728 , 202.75  , 205.773 ,\n",
       "          207.284 , 208.798 , 213.336 , 217.8695, 219.3805, 222.4045,\n",
       "          228.451 , 231.474 , 245.0695, 258.665 , 261.687 , 264.707 ,\n",
       "          269.238 , 270.7495, 278.305 , 281.331 , 282.845 , 285.867 ,\n",
       "          288.8905, 294.933 , 314.573 , 320.6125, 325.145 , 326.6565,\n",
       "          329.6765, 337.2285, 340.2505, 349.3175, 350.831 , 358.3855,\n",
       "          359.8965, 376.5125, 382.5555, 385.5765]]),\n",
       "          array([[  1.8135,   9.373 ,  13.9055,  15.416 ,  18.4375,  19.949 ,\n",
       "           22.969 ,  29.009 ,  30.5205,  32.0315,  33.5425,  36.564 ,\n",
       "           38.075 ,  42.607 ,  47.1405,  48.652 ,  68.285 ,  72.823 ,\n",
       "           83.4   ,  84.911 ,  86.423 ,  93.9735,  98.505 , 100.0155,\n",
       "          104.55  , 119.659 , 124.192 , 125.703 , 140.8105, 143.8365,\n",
       "          151.3905, 152.9015, 155.923 , 157.435 , 161.9675, 163.479 ,\n",
       "          175.5635, 177.0745, 181.6045, 190.665 , 192.176 , 193.687 ,\n",
       "          201.239 , 204.2615, 211.8225, 220.892 , 223.916 , 225.428 ,\n",
       "          229.9635, 232.9855, 236.006 , 237.5165, 239.028 , 240.538 ,\n",
       "          243.558 , 246.5805, 248.091 , 251.112 , 252.6225, 257.154 ,\n",
       "          267.727 , 273.77  , 276.7915, 287.379 , 296.4445, 297.9555,\n",
       "          302.486 , 303.996 , 305.507 , 307.018 , 308.5295, 310.04  ,\n",
       "          313.0615, 323.6335, 331.1875, 347.804 , 353.854 , 356.8745,\n",
       "          364.4285, 367.4485, 370.469 , 373.4895, 375.001 , 378.024 ,\n",
       "          381.044 , 387.0885]])]], dtype=object),\n",
       "  'durations': array([[array([[0, 0, 0, 0, 0, 0, 0, 0, 0, 0, 0, 0, 0, 0, 0, 0, 0, 0, 0, 0, 0, 0,\n",
       "          0, 0, 0, 0, 0, 0, 0, 0, 0, 0, 0, 0, 0, 0, 0, 0, 0, 0, 0, 0, 0, 0,\n",
       "          0, 0, 0, 0, 0, 0, 0, 0, 0, 0, 0, 0, 0, 0, 0, 0, 0, 0, 0, 0]],\n",
       "        dtype=uint8),\n",
       "          array([[0, 0, 0, 0, 0, 0, 0, 0, 0, 0, 0, 0, 0, 0, 0, 0, 0, 0, 0, 0, 0, 0,\n",
       "          0, 0, 0, 0, 0, 0, 0, 0, 0, 0, 0, 0, 0, 0, 0, 0, 0, 0, 0, 0, 0, 0,\n",
       "          0, 0, 0, 0, 0, 0, 0, 0, 0, 0, 0, 0, 0, 0, 0, 0, 0, 0, 0, 0, 0, 0,\n",
       "          0, 0, 0, 0, 0, 0, 0, 0, 0, 0, 0, 0, 0, 0, 0, 0, 0, 0, 0, 0]],\n",
       "        dtype=uint8)]], dtype=object)},\n",
       " {'__header__': b'MATLAB 5.0 MAT-file, Platform: GLNX86, Created on: Wed Sep  9 15:02:37 2009',\n",
       "  '__version__': '1.0',\n",
       "  '__globals__': [],\n",
       "  'names': array([[array(['faces'], dtype='<U5')],\n",
       "         [array(['scrambled'], dtype='<U9')]], dtype=object),\n",
       "  'onsets': array([[array([[  7.852 ,  12.3835,  44.1245,  57.7215,  62.2525,  63.764 ,\n",
       "           69.8055,  74.337 ,  78.868 , 101.5275, 106.0635, 110.6015,\n",
       "          112.113 , 113.6245, 115.1355, 116.647 , 121.1815, 128.733 ,\n",
       "          133.264 , 136.2845, 142.3275, 145.35  , 149.88  , 168.013 ,\n",
       "          171.035 , 174.0585, 183.132 , 199.7455, 202.7675, 205.789 ,\n",
       "          207.301 , 208.812 , 213.3445, 217.8755, 219.3875, 222.4105,\n",
       "          228.456 , 231.48  , 245.087 , 258.689 , 261.711 , 264.7325,\n",
       "          269.265 , 270.7755, 278.3285, 281.3495, 282.8605, 285.882 ,\n",
       "          288.9055, 294.948 , 314.6015, 320.6425, 325.175 , 326.687 ,\n",
       "          329.7085, 337.2625, 340.2835, 349.347 , 350.8585, 358.4135,\n",
       "          359.926 , 376.546 , 382.5995, 385.6195]]),\n",
       "          array([[  1.812 ,   9.3635,  13.895 ,  15.406 ,  18.427 ,  19.9385,\n",
       "           22.9595,  29.0005,  30.512 ,  32.023 ,  33.5345,  36.559 ,\n",
       "           38.0735,  42.6125,  47.1465,  48.659 ,  68.2945,  72.8265,\n",
       "           83.399 ,  84.9105,  86.422 ,  93.9725,  98.5035, 100.016 ,\n",
       "          104.5495, 119.6695, 124.2025, 125.713 , 140.816 , 143.8385,\n",
       "          151.391 , 152.903 , 155.924 , 157.4355, 161.968 , 163.48  ,\n",
       "          175.572 , 177.085 , 181.6205, 190.6835, 192.195 , 193.7065,\n",
       "          201.2565, 204.2785, 211.833 , 220.8985, 223.922 , 225.434 ,\n",
       "          229.968 , 232.992 , 236.015 , 237.526 , 239.0375, 240.5485,\n",
       "          243.574 , 246.6015, 248.1135, 251.1345, 252.6455, 257.177 ,\n",
       "          267.753 , 273.796 , 276.817 , 287.3935, 296.46  , 297.9725,\n",
       "          302.5035, 304.0155, 305.5255, 307.0375, 308.5485, 310.0625,\n",
       "          313.088 , 323.664 , 331.2205, 347.835 , 353.88  , 356.902 ,\n",
       "          364.4595, 367.4815, 370.503 , 373.5235, 375.035 , 378.06  ,\n",
       "          381.0855, 387.131 ]])]], dtype=object),\n",
       "  'durations': array([[array([[0, 0, 0, 0, 0, 0, 0, 0, 0, 0, 0, 0, 0, 0, 0, 0, 0, 0, 0, 0, 0, 0,\n",
       "          0, 0, 0, 0, 0, 0, 0, 0, 0, 0, 0, 0, 0, 0, 0, 0, 0, 0, 0, 0, 0, 0,\n",
       "          0, 0, 0, 0, 0, 0, 0, 0, 0, 0, 0, 0, 0, 0, 0, 0, 0, 0, 0, 0]],\n",
       "        dtype=uint8),\n",
       "          array([[0, 0, 0, 0, 0, 0, 0, 0, 0, 0, 0, 0, 0, 0, 0, 0, 0, 0, 0, 0, 0, 0,\n",
       "          0, 0, 0, 0, 0, 0, 0, 0, 0, 0, 0, 0, 0, 0, 0, 0, 0, 0, 0, 0, 0, 0,\n",
       "          0, 0, 0, 0, 0, 0, 0, 0, 0, 0, 0, 0, 0, 0, 0, 0, 0, 0, 0, 0, 0, 0,\n",
       "          0, 0, 0, 0, 0, 0, 0, 0, 0, 0, 0, 0, 0, 0, 0, 0, 0, 0, 0, 0]],\n",
       "        dtype=uint8)]], dtype=object)})"
      ]
     },
     "execution_count": 49,
     "metadata": {},
     "output_type": "execute_result"
    }
   ],
   "source": [
    "# subject_data.keys() = ['slice_order', 'func1', 'trials_ses1', 'events1', 'func2', 'trials_ses2', 'events2', 'anat']\n",
    "import scipy.io\n",
    "trial_ses1 = scipy.io.loadmat(subject_data['trials_ses1'])\n",
    "trial_ses2 = scipy.io.loadmat(subject_data['trials_ses2'])\n",
    "trial_ses1,trial_ses2\n",
    "# mat.keys() = ['__header__', '__version__', '__globals__', 'names', 'onsets', 'durations']\n",
    "# subject_data['trials_ses1']\n",
    "# from pandas import DataFrame as df\n",
    "# # tuple(zip(mat['names'],mat['onsets'],mat['durations']))\n",
    "# mat['durations']\n",
    "# df(tuple((itm[0], itm[1]) for itm in tuple(mat.items())))"
   ]
  },
  {
   "cell_type": "markdown",
   "metadata": {},
   "source": [
    "Make the design matrices.\n",
    "\n"
   ]
  },
  {
   "cell_type": "code",
   "execution_count": 51,
   "metadata": {},
   "outputs": [
    {
     "data": {
      "text/html": [
       "<div>\n",
       "<style scoped>\n",
       "    .dataframe tbody tr th:only-of-type {\n",
       "        vertical-align: middle;\n",
       "    }\n",
       "\n",
       "    .dataframe tbody tr th {\n",
       "        vertical-align: top;\n",
       "    }\n",
       "\n",
       "    .dataframe thead th {\n",
       "        text-align: right;\n",
       "    }\n",
       "</style>\n",
       "<table border=\"1\" class=\"dataframe\">\n",
       "  <thead>\n",
       "    <tr style=\"text-align: right;\">\n",
       "      <th></th>\n",
       "      <th>trial_type</th>\n",
       "      <th>onset</th>\n",
       "      <th>duration</th>\n",
       "    </tr>\n",
       "  </thead>\n",
       "  <tbody>\n",
       "    <tr>\n",
       "      <th>0</th>\n",
       "      <td>faces</td>\n",
       "      <td>15.723</td>\n",
       "      <td>1.0</td>\n",
       "    </tr>\n",
       "    <tr>\n",
       "      <th>1</th>\n",
       "      <td>faces</td>\n",
       "      <td>24.788</td>\n",
       "      <td>1.0</td>\n",
       "    </tr>\n",
       "    <tr>\n",
       "      <th>2</th>\n",
       "      <td>faces</td>\n",
       "      <td>88.238</td>\n",
       "      <td>1.0</td>\n",
       "    </tr>\n",
       "    <tr>\n",
       "      <th>3</th>\n",
       "      <td>faces</td>\n",
       "      <td>115.426</td>\n",
       "      <td>1.0</td>\n",
       "    </tr>\n",
       "    <tr>\n",
       "      <th>4</th>\n",
       "      <td>faces</td>\n",
       "      <td>124.487</td>\n",
       "      <td>1.0</td>\n",
       "    </tr>\n",
       "    <tr>\n",
       "      <th>...</th>\n",
       "      <td>...</td>\n",
       "      <td>...</td>\n",
       "      <td>...</td>\n",
       "    </tr>\n",
       "    <tr>\n",
       "      <th>145</th>\n",
       "      <td>scrambled</td>\n",
       "      <td>746.979</td>\n",
       "      <td>1.0</td>\n",
       "    </tr>\n",
       "    <tr>\n",
       "      <th>146</th>\n",
       "      <td>scrambled</td>\n",
       "      <td>750.002</td>\n",
       "      <td>1.0</td>\n",
       "    </tr>\n",
       "    <tr>\n",
       "      <th>147</th>\n",
       "      <td>scrambled</td>\n",
       "      <td>756.048</td>\n",
       "      <td>1.0</td>\n",
       "    </tr>\n",
       "    <tr>\n",
       "      <th>148</th>\n",
       "      <td>scrambled</td>\n",
       "      <td>762.088</td>\n",
       "      <td>1.0</td>\n",
       "    </tr>\n",
       "    <tr>\n",
       "      <th>149</th>\n",
       "      <td>scrambled</td>\n",
       "      <td>774.177</td>\n",
       "      <td>1.0</td>\n",
       "    </tr>\n",
       "  </tbody>\n",
       "</table>\n",
       "<p>150 rows × 3 columns</p>\n",
       "</div>"
      ],
      "text/plain": [
       "    trial_type    onset  duration\n",
       "0        faces   15.723       1.0\n",
       "1        faces   24.788       1.0\n",
       "2        faces   88.238       1.0\n",
       "3        faces  115.426       1.0\n",
       "4        faces  124.487       1.0\n",
       "..         ...      ...       ...\n",
       "145  scrambled  746.979       1.0\n",
       "146  scrambled  750.002       1.0\n",
       "147  scrambled  756.048       1.0\n",
       "148  scrambled  762.088       1.0\n",
       "149  scrambled  774.177       1.0\n",
       "\n",
       "[150 rows x 3 columns]"
      ]
     },
     "metadata": {},
     "output_type": "display_data"
    },
    {
     "data": {
      "text/html": [
       "<div>\n",
       "<style scoped>\n",
       "    .dataframe tbody tr th:only-of-type {\n",
       "        vertical-align: middle;\n",
       "    }\n",
       "\n",
       "    .dataframe tbody tr th {\n",
       "        vertical-align: top;\n",
       "    }\n",
       "\n",
       "    .dataframe thead th {\n",
       "        text-align: right;\n",
       "    }\n",
       "</style>\n",
       "<table border=\"1\" class=\"dataframe\">\n",
       "  <thead>\n",
       "    <tr style=\"text-align: right;\">\n",
       "      <th></th>\n",
       "      <th>trial_type</th>\n",
       "      <th>onset</th>\n",
       "      <th>duration</th>\n",
       "    </tr>\n",
       "  </thead>\n",
       "  <tbody>\n",
       "    <tr>\n",
       "      <th>0</th>\n",
       "      <td>faces</td>\n",
       "      <td>15.704</td>\n",
       "      <td>1.0</td>\n",
       "    </tr>\n",
       "    <tr>\n",
       "      <th>1</th>\n",
       "      <td>faces</td>\n",
       "      <td>24.767</td>\n",
       "      <td>1.0</td>\n",
       "    </tr>\n",
       "    <tr>\n",
       "      <th>2</th>\n",
       "      <td>faces</td>\n",
       "      <td>88.249</td>\n",
       "      <td>1.0</td>\n",
       "    </tr>\n",
       "    <tr>\n",
       "      <th>3</th>\n",
       "      <td>faces</td>\n",
       "      <td>115.443</td>\n",
       "      <td>1.0</td>\n",
       "    </tr>\n",
       "    <tr>\n",
       "      <th>4</th>\n",
       "      <td>faces</td>\n",
       "      <td>124.505</td>\n",
       "      <td>1.0</td>\n",
       "    </tr>\n",
       "    <tr>\n",
       "      <th>...</th>\n",
       "      <td>...</td>\n",
       "      <td>...</td>\n",
       "      <td>...</td>\n",
       "    </tr>\n",
       "    <tr>\n",
       "      <th>145</th>\n",
       "      <td>scrambled</td>\n",
       "      <td>747.047</td>\n",
       "      <td>1.0</td>\n",
       "    </tr>\n",
       "    <tr>\n",
       "      <th>146</th>\n",
       "      <td>scrambled</td>\n",
       "      <td>750.070</td>\n",
       "      <td>1.0</td>\n",
       "    </tr>\n",
       "    <tr>\n",
       "      <th>147</th>\n",
       "      <td>scrambled</td>\n",
       "      <td>756.120</td>\n",
       "      <td>1.0</td>\n",
       "    </tr>\n",
       "    <tr>\n",
       "      <th>148</th>\n",
       "      <td>scrambled</td>\n",
       "      <td>762.171</td>\n",
       "      <td>1.0</td>\n",
       "    </tr>\n",
       "    <tr>\n",
       "      <th>149</th>\n",
       "      <td>scrambled</td>\n",
       "      <td>774.262</td>\n",
       "      <td>1.0</td>\n",
       "    </tr>\n",
       "  </tbody>\n",
       "</table>\n",
       "<p>150 rows × 3 columns</p>\n",
       "</div>"
      ],
      "text/plain": [
       "    trial_type    onset  duration\n",
       "0        faces   15.704       1.0\n",
       "1        faces   24.767       1.0\n",
       "2        faces   88.249       1.0\n",
       "3        faces  115.443       1.0\n",
       "4        faces  124.505       1.0\n",
       "..         ...      ...       ...\n",
       "145  scrambled  747.047       1.0\n",
       "146  scrambled  750.070       1.0\n",
       "147  scrambled  756.120       1.0\n",
       "148  scrambled  762.171       1.0\n",
       "149  scrambled  774.262       1.0\n",
       "\n",
       "[150 rows x 3 columns]"
      ]
     },
     "metadata": {},
     "output_type": "display_data"
    },
    {
     "data": {
      "text/plain": [
       "(64, 64, 32)"
      ]
     },
     "metadata": {},
     "output_type": "display_data"
    }
   ],
   "source": [
    "import pandas as pd\n",
    "display(pd.read_csv(subject_data['events1'],sep='\\t'),\n",
    "        pd.read_csv(subject_data['events2'],sep='\\t'),\n",
    "        mean_image.shape)"
   ]
  },
  {
   "cell_type": "code",
   "execution_count": 52,
   "metadata": {},
   "outputs": [],
   "source": [
    "import numpy as np\n",
    "import pandas as pd\n",
    "from nilearn.glm.first_level import make_first_level_design_matrix"
   ]
  },
  {
   "cell_type": "markdown",
   "metadata": {},
   "source": [
    "Loop over the two sessions.\n",
    "\n"
   ]
  },
  {
   "cell_type": "code",
   "execution_count": 53,
   "metadata": {},
   "outputs": [],
   "source": [
    "import numpy as np\n",
    "import pandas as pd\n",
    "from nilearn.glm.first_level import make_first_level_design_matrix\n",
    "\n",
    "def make_design_matrices(fmri_img):\n",
    "    design_matrices = []\n",
    "    for idx, img in enumerate(fmri_img, start=1):\n",
    "        # Build experimental paradigm\n",
    "        n_scans = img.shape[-1]\n",
    "        events = pd.read_table(subject_data['events{}'.format(idx)])\n",
    "        # Define the sampling times for the design matrix\n",
    "        frame_times = np.arange(n_scans) * tr\n",
    "        # Build design matrix with the reviously defined parameters\n",
    "        design_matrix = make_first_level_design_matrix(\n",
    "                frame_times,\n",
    "                events,\n",
    "                hrf_model='spm',\n",
    "                drift_model='cosine',\n",
    "    #             high_pass=high_pass,\n",
    "                )\n",
    "        # put the design matrices in a list\n",
    "        design_matrices.append(design_matrix)\n",
    "    return design_matrices,events\n",
    "design_matrices,events=make_design_matrices(fmri_img)"
   ]
  },
  {
   "cell_type": "code",
   "execution_count": 54,
   "metadata": {},
   "outputs": [
    {
     "data": {
      "text/plain": [
       "'/data/cisl/DATA/spm_multimodal_fmri/spm_multimodal_fmri/sub001/fMRI/session2_events.tsv'"
      ]
     },
     "execution_count": 54,
     "metadata": {},
     "output_type": "execute_result"
    }
   ],
   "source": [
    "subject_data['events{}'.format(2)]"
   ]
  },
  {
   "cell_type": "markdown",
   "metadata": {},
   "source": [
    "We can specify basic contrasts (to get beta maps).\n",
    "We start by specifying canonical contrast that isolate design matrix columns.\n",
    "We actually want more interesting contrasts. The simplest contrast\n",
    "just makes the difference between the two main conditions.  We\n",
    "define the two opposite versions to run one-tailed t-tests.  We also\n",
    "define the effects of interest contrast, a 2-dimensional contrasts\n",
    "spanning the two conditions."
   ]
  },
  {
   "cell_type": "markdown",
   "metadata": {},
   "source": []
  },
  {
   "cell_type": "code",
   "execution_count": 61,
   "metadata": {},
   "outputs": [
    {
     "data": {
      "text/plain": [
       "{'faces-scrambled': array([ 1., -1.,  0.,  0.,  0.,  0.,  0.,  0.,  0.,  0.,  0.,  0.,  0.,\n",
       "         0.,  0.,  0.,  0.,  0.]),\n",
       " 'scrambled-faces': array([-1.,  1.,  0.,  0.,  0.,  0.,  0.,  0.,  0.,  0.,  0.,  0.,  0.,\n",
       "         0.,  0.,  0.,  0.,  0.]),\n",
       " 'effects_of_interest': array([[1., 0., 0., 0., 0., 0., 0., 0., 0., 0., 0., 0., 0., 0., 0., 0.,\n",
       "         0., 0.],\n",
       "        [0., 1., 0., 0., 0., 0., 0., 0., 0., 0., 0., 0., 0., 0., 0., 0.,\n",
       "         0., 0.]])}"
      ]
     },
     "execution_count": 61,
     "metadata": {},
     "output_type": "execute_result"
    }
   ],
   "source": [
    "import numpy as np\n",
    "contrast_matrix = np.eye(design_matrices[0].shape[1])\n",
    "basic_contrasts = dict([(column, contrast_matrix[i])\n",
    "                        for i, column in enumerate(design_matrices[0].columns)])\n",
    "contrasts = {\n",
    "    'faces-scrambled': basic_contrasts['faces'] - basic_contrasts['scrambled'],\n",
    "    'scrambled-faces': -basic_contrasts['faces'] + basic_contrasts['scrambled'],\n",
    "    'effects_of_interest': np.vstack((basic_contrasts['faces'],\n",
    "                                      basic_contrasts['scrambled']))\n",
    "    }\n",
    "contrasts"
   ]
  },
  {
   "cell_type": "markdown",
   "metadata": {},
   "source": [
    "Fit the GLM for the 2 sessions by speficying a FirstLevelModel and then\n",
    "fitting it.\n",
    "\n"
   ]
  },
  {
   "cell_type": "code",
   "execution_count": 58,
   "metadata": {},
   "outputs": [
    {
     "name": "stdout",
     "output_type": "stream",
     "text": [
      "Fitting a GLM\n"
     ]
    }
   ],
   "source": [
    "from nilearn.glm.first_level import FirstLevelModel\n",
    "print('Fitting a GLM')\n",
    "fmri_glm = FirstLevelModel()\n",
    "fmri_glm = fmri_glm.fit(fmri_img, design_matrices=design_matrices)"
   ]
  },
  {
   "cell_type": "markdown",
   "metadata": {},
   "source": [
    "Now we can compute contrast-related statistical maps (in z-scale), and plot\n",
    "them.\n",
    "\n"
   ]
  },
  {
   "cell_type": "code",
   "execution_count": 198,
   "metadata": {},
   "outputs": [
    {
     "name": "stdout",
     "output_type": "stream",
     "text": [
      "Computing contrasts\n",
      "\tcontrast id: faces-scrambled\n",
      "\tcontrast id: scrambled-faces\n",
      "\tcontrast id: effects_of_interest\n"
     ]
    },
    {
     "data": {
      "text/html": [
       "<div>\n",
       "<style scoped>\n",
       "    .dataframe tbody tr th:only-of-type {\n",
       "        vertical-align: middle;\n",
       "    }\n",
       "\n",
       "    .dataframe tbody tr th {\n",
       "        vertical-align: top;\n",
       "    }\n",
       "\n",
       "    .dataframe thead th {\n",
       "        text-align: right;\n",
       "    }\n",
       "</style>\n",
       "<table border=\"1\" class=\"dataframe\">\n",
       "  <thead>\n",
       "    <tr style=\"text-align: right;\">\n",
       "      <th></th>\n",
       "      <th>0</th>\n",
       "    </tr>\n",
       "  </thead>\n",
       "  <tbody>\n",
       "    <tr>\n",
       "      <th>0</th>\n",
       "      <td>a</td>\n",
       "    </tr>\n",
       "    <tr>\n",
       "      <th>1</th>\n",
       "      <td>b</td>\n",
       "    </tr>\n",
       "    <tr>\n",
       "      <th>2</th>\n",
       "      <td>c</td>\n",
       "    </tr>\n",
       "    <tr>\n",
       "      <th>3</th>\n",
       "      <td>d</td>\n",
       "    </tr>\n",
       "    <tr>\n",
       "      <th>4</th>\n",
       "      <td>a</td>\n",
       "    </tr>\n",
       "    <tr>\n",
       "      <th>5</th>\n",
       "      <td>b</td>\n",
       "    </tr>\n",
       "    <tr>\n",
       "      <th>6</th>\n",
       "      <td>c</td>\n",
       "    </tr>\n",
       "    <tr>\n",
       "      <th>7</th>\n",
       "      <td>d</td>\n",
       "    </tr>\n",
       "    <tr>\n",
       "      <th>8</th>\n",
       "      <td>a</td>\n",
       "    </tr>\n",
       "    <tr>\n",
       "      <th>9</th>\n",
       "      <td>b</td>\n",
       "    </tr>\n",
       "    <tr>\n",
       "      <th>10</th>\n",
       "      <td>c</td>\n",
       "    </tr>\n",
       "    <tr>\n",
       "      <th>11</th>\n",
       "      <td>d</td>\n",
       "    </tr>\n",
       "    <tr>\n",
       "      <th>12</th>\n",
       "      <td>a</td>\n",
       "    </tr>\n",
       "    <tr>\n",
       "      <th>13</th>\n",
       "      <td>b</td>\n",
       "    </tr>\n",
       "    <tr>\n",
       "      <th>14</th>\n",
       "      <td>c</td>\n",
       "    </tr>\n",
       "    <tr>\n",
       "      <th>15</th>\n",
       "      <td>d</td>\n",
       "    </tr>\n",
       "  </tbody>\n",
       "</table>\n",
       "</div>"
      ],
      "text/plain": [
       "    0\n",
       "0   a\n",
       "1   b\n",
       "2   c\n",
       "3   d\n",
       "4   a\n",
       "5   b\n",
       "6   c\n",
       "7   d\n",
       "8   a\n",
       "9   b\n",
       "10  c\n",
       "11  d\n",
       "12  a\n",
       "13  b\n",
       "14  c\n",
       "15  d"
      ]
     },
     "execution_count": 198,
     "metadata": {},
     "output_type": "execute_result"
    }
   ],
   "source": [
    "print('Computing contrasts')\n",
    "from nilearn import plotting\n",
    "\n",
    "# Iterate on contrasts\n",
    "for contrast_id, contrast_val in contrasts.items():\n",
    "    computed_contrasts = []\n",
    "    print(\"\\tcontrast id: %s\" % contrast_id)\n",
    "    # compute the contrasts\n",
    "    z_map = fmri_glm.compute_contrast(\n",
    "        contrast_val, output_type='z_score')\n",
    "    \n",
    "    # plot the contrasts as soon as they're generated\n",
    "    # the display is overlayed on the mean fMRI image\n",
    "    # a threshold of 3.0 is used, more sophisticated choices are possible\n",
    "#     plotting.plot_stat_map(\n",
    "#         z_map, bg_img=mean_image, threshold=3.0, display_mode='z',\n",
    "#         cut_coords=3, black_bg=True, title=contrast_id)\n",
    "#     plotting.show()"
   ]
  },
  {
   "cell_type": "code",
   "execution_count": 261,
   "metadata": {},
   "outputs": [
    {
     "data": {
      "text/plain": [
       "{((('false_alarm', ' - false_alarm'),\n",
       "   ('false_alarm', ' - hit'),\n",
       "   ('false_alarm', ' - miss'),\n",
       "   ('false_alarm', ' - recog_ok_spatial_wrong'),\n",
       "   ('false_alarm', ' - constant')),): None,\n",
       " ((('hit', ' - false_alarm'),\n",
       "   ('hit', ' - hit'),\n",
       "   ('hit', ' - miss'),\n",
       "   ('hit', ' - recog_ok_spatial_wrong'),\n",
       "   ('hit', ' - constant')),): None,\n",
       " ((('miss', ' - false_alarm'),\n",
       "   ('miss', ' - hit'),\n",
       "   ('miss', ' - miss'),\n",
       "   ('miss', ' - recog_ok_spatial_wrong'),\n",
       "   ('miss', ' - constant')),): None,\n",
       " ((('recog_ok_spatial_wrong', ' - false_alarm'),\n",
       "   ('recog_ok_spatial_wrong', ' - hit'),\n",
       "   ('recog_ok_spatial_wrong', ' - miss'),\n",
       "   ('recog_ok_spatial_wrong', ' - recog_ok_spatial_wrong'),\n",
       "   ('recog_ok_spatial_wrong', ' - constant')),): None,\n",
       " ((('constant', ' - false_alarm'),\n",
       "   ('constant', ' - hit'),\n",
       "   ('constant', ' - miss'),\n",
       "   ('constant', ' - recog_ok_spatial_wrong'),\n",
       "   ('constant', ' - constant')),): None}"
      ]
     },
     "execution_count": 261,
     "metadata": {},
     "output_type": "execute_result"
    }
   ],
   "source": [
    "dict.fromkeys([itm[:-1] for itm in\n",
    " list(dict.fromkeys(pd.Series((tuple(zip([row[1][0]]*test.shape[0], test[1].values)))\n",
    " for row in test.iterrows()).unique().tolist()).items())])"
   ]
  },
  {
   "cell_type": "code",
   "execution_count": 246,
   "metadata": {},
   "outputs": [],
   "source": [
    "subject00_contrasts = {'false_alarm': np.array([1., 0., 0., 0., 0.]),\n",
    "                         'hit': np.array([0., 1., 0., 0., 0.]),\n",
    "                         'miss': np.array([0., 0., 1., 0., 0.]),\n",
    "                         'recog_ok_spatial_wrong': np.array([0., 0., 0., 1., 0.]),\n",
    "                         'constant': np.array([0., 0., 0., 0., 1.])}\n",
    "names = list(subject00_contrasts.keys())\n",
    "negatives = [' - '+name for name in subject00_cnames]\n",
    "test = df((names,negatives)).T\n",
    "\n",
    "# pd.Series([tuple(zip([name]*len(names),negatives)) for name in names]).unique().tolist()"
   ]
  },
  {
   "cell_type": "code",
   "execution_count": 210,
   "metadata": {},
   "outputs": [
    {
     "data": {
      "text/plain": [
       "array([[['false_alarm', ' - false_alarm'],\n",
       "        ['hit', ' - hit'],\n",
       "        ['miss', ' - miss'],\n",
       "        ['recog_ok_spatial_wrong', ' - recog_ok_spatial_wrong'],\n",
       "        ['constant', ' - constant']],\n",
       "\n",
       "       [['false_alarm', ' - false_alarm'],\n",
       "        ['hit', ' - hit'],\n",
       "        ['miss', ' - miss'],\n",
       "        ['recog_ok_spatial_wrong', ' - recog_ok_spatial_wrong'],\n",
       "        ['constant', ' - constant']],\n",
       "\n",
       "       [['false_alarm', ' - false_alarm'],\n",
       "        ['hit', ' - hit'],\n",
       "        ['miss', ' - miss'],\n",
       "        ['recog_ok_spatial_wrong', ' - recog_ok_spatial_wrong'],\n",
       "        ['constant', ' - constant']],\n",
       "\n",
       "       [['false_alarm', ' - false_alarm'],\n",
       "        ['hit', ' - hit'],\n",
       "        ['miss', ' - miss'],\n",
       "        ['recog_ok_spatial_wrong', ' - recog_ok_spatial_wrong'],\n",
       "        ['constant', ' - constant']],\n",
       "\n",
       "       [['false_alarm', ' - false_alarm'],\n",
       "        ['hit', ' - hit'],\n",
       "        ['miss', ' - miss'],\n",
       "        ['recog_ok_spatial_wrong', ' - recog_ok_spatial_wrong'],\n",
       "        ['constant', ' - constant']]], dtype='<U25')"
      ]
     },
     "execution_count": 210,
     "metadata": {},
     "output_type": "execute_result"
    }
   ],
   "source": [
    "\n",
    "\n",
    "# names_=df(tuple(zip(subject00_cnames,[' - '+name for name in subject00_cnames])))\n",
    "# names_\n",
    "\n",
    "# np.array([tuple(zip(names_[0].values.tolist(),\n",
    "#            names_[1].values.tolist()))]*names_.shape[0])\n",
    "# names_array=np.array([tuple(zip([row[1][0]]*names_.shape[0],\n",
    "#            names_[1].values)) for row in names_.iterrows()])\n",
    "# df(enumerate(tuple(tuple(itm)) for itm in names_array)).values\n",
    "# list((itm[0],itm[1]) for itm in names_array)\n",
    "# tuple(zip(lu.evenodd(df(names_array.flatten()).values.tolist())))\n",
    "# [pd.Series(itm) for itm in names_array]\n",
    "# lu.evenodd(lu.flatten(pd.Series([[tuple(val) for val in itm]\n",
    "#                                  for itm in names_array]).values.flatten().tolist()))\n",
    "# lu.flatten()\n",
    "# df(pd.Series([[tuple(itm) for itm in val] for val in names_array]))[0].values.flatten().tolist()\n",
    "# [tuple(zip(itm[1],itm[0])) for itm in names_array]\n",
    "# df([tuple(itm) for itm in names_array]).values\n",
    "# [[row[1][0]]*[names_[1].values] for row in names_.iterrows()]\n",
    "# df(names_)\n",
    "# tuple(zip(lu.evenodd(tuple(zip([([row[1][0]]*names_.shape[0],\n",
    "#                        df(names_)[1].values) for row in df(names_).iterrows()])))))\n",
    "# tuple(zip(names_,names_)*len(names_))\n",
    "# names_matrix=df(list(enumerate(subject00_cnames)),\n",
    "#    [' - '+itm for itm in subject00_cnames])\n",
    "# [(row[0],row[1]) for row in names_matrix.iterrows()]\n",
    "# tuple(zip([[itm] for itm in subject00_cnames],\n",
    "#           [['-'+itm] for itm in subject00_cnames]))\n",
    "# import numpy as np\n",
    "# # np.array(tuple(zip(subject00_cnames,list(reversed(subject00_cnames)))))\n",
    "# names_matrix=df(index=subject00_cnames,columns=[' - '+name for name in subject00_cnames])\n",
    "# # tuple(tuple(zip(next(names_matrix.index.__iter__()),names_matrix.columns)))\n",
    "# # cnames=names_matrix.index\n",
    "# lu.evenodd(lu.flatten(pd.Series([(tuple(zip([ind]*names_matrix.shape[0],list(names_matrix.columns))))\n",
    "#  for ind in names_matrix.index]).unique().flatten().tolist()))"
   ]
  },
  {
   "cell_type": "code",
   "execution_count": 212,
   "metadata": {},
   "outputs": [
    {
     "data": {
      "text/plain": [
       "(['a', 'b', 'c', 'd'], [' - a', ' - b', ' - c', ' - d'])"
      ]
     },
     "execution_count": 212,
     "metadata": {},
     "output_type": "execute_result"
    }
   ],
   "source": [
    "categories = list('abcd')\n",
    "minus_categories = [' - '+categ for categ in categories]\n",
    "categories,minus_categories"
   ]
  },
  {
   "cell_type": "markdown",
   "metadata": {},
   "source": [
    "plot the contrasts as soon as they're generated\n",
    "the display is overlayed on the mean fMRI image\n",
    "a threshold of 3.0 is used, more sophisticated choices are possible"
   ]
  },
  {
   "cell_type": "code",
   "execution_count": 63,
   "metadata": {},
   "outputs": [],
   "source": [
    "computed_contrasts=[fmri_glm.compute_contrast(\n",
    "                         contrast_val, output_type='z_score')\n",
    "                    for contrast_id, contrast_val in contrasts.items()]"
   ]
  },
  {
   "cell_type": "code",
   "execution_count": 64,
   "metadata": {},
   "outputs": [
    {
     "data": {
      "image/png": "[encoded data removed]",
      "text/plain": [
       "<Figure size 525.6x165.6 with 5 Axes>"
      ]
     },
     "metadata": {},
     "output_type": "display_data"
    },
    {
     "data": {
      "image/png": "[encoded data removed]",
      "text/plain": [
       "<Figure size 525.6x165.6 with 5 Axes>"
      ]
     },
     "metadata": {},
     "output_type": "display_data"
    },
    {
     "data": {
      "image/png": "[encoded data removed]",
      "text/plain": [
       "<Figure size 525.6x165.6 with 5 Axes>"
      ]
     },
     "metadata": {},
     "output_type": "display_data"
    }
   ],
   "source": [
    "[plotting.plot_stat_map(z_map, bg_img=mean_image,\n",
    "                       threshold=3.0, display_mode='z',\n",
    "                       cut_coords=3, black_bg=True,\n",
    "                       title=contrast_id)\n",
    " for contrast_id, contrast in list(contrasts.items())]\n",
    "plotting.show()"
   ]
  },
  {
   "cell_type": "markdown",
   "metadata": {},
   "source": [
    "Based on the resulting maps we observe that the analysis results in\n",
    "wide activity for the 'effects of interest' contrast, showing the\n",
    "implications of large portions of the visual cortex in the\n",
    "conditions. By contrast, the differential effect between \"faces\" and\n",
    "\"scrambled\" involves sparser, more anterior and lateral regions. It\n",
    "also displays some responses in the frontal lobe.\n",
    "\n"
   ]
  }
 ],
 "metadata": {
  "kernelspec": {
   "display_name": "Python 3",
   "language": "python",
   "name": "python3"
  },
  "language_info": {
   "codemirror_mode": {
    "name": "ipython",
    "version": 3
   },
   "file_extension": ".py",
   "mimetype": "text/x-python",
   "name": "python",
   "nbconvert_exporter": "python",
   "pygments_lexer": "ipython3",
   "version": "3.7.5"
  }
 },
 "nbformat": 4,
 "nbformat_minor": 1
}

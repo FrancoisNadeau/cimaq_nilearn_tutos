{
 "cells": [
  {
   "cell_type": "code",
   "execution_count": null,
   "metadata": {},
   "outputs": [],
   "source": [
    "%matplotlib inline"
   ]
  },
  {
   "cell_type": "markdown",
   "metadata": {},
   "source": [
    "# Understanding parameters of the first-level model\n",
    "\n",
    "In this tutorial, we study how first-level models are parametrized for fMRI\n",
    "data analysis and clarify the impact of these parameters on the results of the\n",
    "analysis.\n",
    "\n",
    "We use an exploratory approach, in which we incrementally include some new\n",
    "features in the analysis and inspect the outcome, i.e. the resulting brain\n",
    "maps.\n",
    "\n",
    "Readers without prior experience in fMRI data analysis should first run the\n",
    "`sphx_glr_auto_examples_plot_single_subject_single_run.py` tutorial to get\n",
    "a bit more familiar with the base concepts, and only then run this tutorial\n",
    "example.\n",
    "\n",
    "To run this example, you must launch IPython via ``ipython --matplotlib`` in a\n",
    "terminal, or use ``jupyter-notebook``.\n",
    "    :depth: 1\n"
   ]
  },
  {
   "cell_type": "markdown",
   "metadata": {},
   "source": [
    "## Retrieving the data\n",
    "\n",
    "We use a so-called localizer dataset, which consists in a 5-minutes\n",
    "acquisition of a fast event-related dataset.\n",
    "\n",
    "\n"
   ]
  },
  {
   "cell_type": "code",
   "execution_count": null,
   "metadata": {},
   "outputs": [],
   "source": [
    "from nilearn.datasets import func\n",
    "data = func.fetch_localizer_first_level()\n",
    "fmri_img = data.epi_img"
   ]
  },
  {
   "cell_type": "markdown",
   "metadata": {},
   "source": [
    "Define the paradigm that will be used. Here, we just need to get the provided\n",
    "file.\n",
    "\n",
    "This task, described in Pinel et al., BMC neuroscience 2007 probes basic\n",
    "functions, such as button presses with the left or right hand, viewing\n",
    "horizontal and vertical checkerboards, reading and listening to short\n",
    "sentences, and mental computations (subractions).\n",
    "\n",
    "Visual stimuli were displayed in four 250-ms epochs, separated by 100ms\n",
    "intervals (i.e., 1.3s in total). Auditory stimuli were drawn from a recorded\n",
    "male voice (i.e., a total of 1.6s for motor instructions, 1.2-1.7s for\n",
    "sentences, and 1.2-1.3s for subtractions). The auditory or visual stimuli\n",
    "were shown to the participants for passive listening or viewing or responses\n",
    "via button presses in event-related paradigms.  Post-scan questions verified\n",
    "that the experimental tasks were understood and followed correctly.\n",
    "\n",
    "This task comprises 10 conditions:\n",
    "\n",
    "* audio_left_hand_button_press: Left-hand three-times button press, indicated by auditory instruction\n",
    "* audio_right_hand_button_press: Right-hand three-times button press, indicated by auditory instruction\n",
    "* visual_left_hand_button_press: Left-hand three-times button press, indicated by visual instruction\n",
    "* visual_right_hand_button_press:  Right-hand three-times button press, indicated by visual instruction\n",
    "* horizontal_checkerboard: Visualization of flashing horizontal checkerboards\n",
    "* vertical_checkerboard: Visualization of flashing vertical checkerboards\n",
    "* sentence_listening: Listen to narrative sentences\n",
    "* sentence_reading: Read narrative sentences\n",
    "* audio_computation: Mental subtraction, indicated by auditory instruction\n",
    "* visual_computation: Mental subtraction, indicated by visual instruction\n",
    "\n",
    "\n"
   ]
  },
  {
   "cell_type": "code",
   "execution_count": null,
   "metadata": {},
   "outputs": [],
   "source": [
    "t_r = 2.4\n",
    "events_file = data['events']\n",
    "import pandas as pd\n",
    "events = pd.read_table(events_file)\n",
    "events"
   ]
  },
  {
   "cell_type": "markdown",
   "metadata": {},
   "source": [
    "## Running a basic model\n",
    "\n",
    "First we specify a linear model.\n",
    "The .fit() functionality of FirstLevelModel function creates the design\n",
    "matrix and the beta maps.\n",
    "\n",
    "\n"
   ]
  },
  {
   "cell_type": "code",
   "execution_count": null,
   "metadata": {},
   "outputs": [],
   "source": [
    "from nilearn.glm.first_level import FirstLevelModel\n",
    "first_level_model = FirstLevelModel(t_r)\n",
    "first_level_model = first_level_model.fit(fmri_img, events=events)\n",
    "design_matrix = first_level_model.design_matrices_[0]"
   ]
  },
  {
   "cell_type": "markdown",
   "metadata": {},
   "source": [
    "Let us take a look at the design matrix: it has 10 main columns corresponding\n",
    "to 10 experimental conditions, followed by 3 columns describing low-frequency\n",
    "signals (drifts) and a constant regressor.\n",
    "\n"
   ]
  },
  {
   "cell_type": "code",
   "execution_count": null,
   "metadata": {},
   "outputs": [],
   "source": [
    "from nilearn.plotting import plot_design_matrix\n",
    "plot_design_matrix(design_matrix)\n",
    "import matplotlib.pyplot as plt\n",
    "plt.show()"
   ]
  },
  {
   "cell_type": "markdown",
   "metadata": {},
   "source": [
    "Specification of the contrasts.\n",
    "\n",
    "For this, let's create a function that, given the design matrix, generates\n",
    "the corresponding contrasts.  This will be useful to repeat contrast\n",
    "specification when we change the design matrix.\n",
    "\n"
   ]
  },
  {
   "cell_type": "code",
   "execution_count": null,
   "metadata": {},
   "outputs": [],
   "source": [
    "import numpy as np\n",
    "\n",
    "def make_localizer_contrasts(design_matrix):\n",
    "    \"\"\" returns a dictionary of four contrasts, given the design matrix\"\"\"\n",
    "\n",
    "    # first generate canonical contrasts\n",
    "    contrast_matrix = np.eye(design_matrix.shape[1])\n",
    "    contrasts = dict([(column, contrast_matrix[i])\n",
    "                      for i, column in enumerate(design_matrix.columns)])\n",
    "\n",
    "    contrasts['audio'] = (\n",
    "        contrasts['audio_left_hand_button_press']\n",
    "        + contrasts['audio_right_hand_button_press']\n",
    "        + contrasts['audio_computation']\n",
    "        + contrasts['sentence_listening'])\n",
    "\n",
    "    # one contrast adding all conditions involving instructions reading\n",
    "    contrasts['visual'] = (\n",
    "        contrasts['visual_left_hand_button_press']\n",
    "        + contrasts['visual_right_hand_button_press']\n",
    "        + contrasts['visual_computation']\n",
    "        + contrasts['sentence_reading'])\n",
    "\n",
    "    # one contrast adding all conditions involving computation\n",
    "    contrasts['computation'] = (contrasts['visual_computation']\n",
    "                                + contrasts['audio_computation'])\n",
    "\n",
    "    # one contrast adding all conditions involving sentences\n",
    "    contrasts['sentences'] = (contrasts['sentence_listening']\n",
    "                              + contrasts['sentence_reading'])\n",
    "\n",
    "    # Short dictionary of more relevant contrasts\n",
    "    contrasts = {\n",
    "        'left - right button press': (\n",
    "            contrasts['audio_left_hand_button_press']\n",
    "            - contrasts['audio_right_hand_button_press']\n",
    "            + contrasts['visual_left_hand_button_press']\n",
    "            - contrasts['visual_right_hand_button_press']\n",
    "        ),\n",
    "        'audio - visual': contrasts['audio'] - contrasts['visual'],\n",
    "        'computation - sentences': (contrasts['computation'] -\n",
    "                                    contrasts['sentences']\n",
    "        ),\n",
    "        'horizontal-vertical': (contrasts['horizontal_checkerboard'] -\n",
    "                                contrasts['vertical_checkerboard'])\n",
    "    }\n",
    "    return contrasts"
   ]
  },
  {
   "cell_type": "markdown",
   "metadata": {},
   "source": [
    "Let's look at these computed contrasts:\n",
    "\n",
    "* 'left - right button press': probes motor activity in left versus right button presses\n",
    "* 'horizontal-vertical': probes the differential activity in viewing a horizontal vs vertical checkerboard\n",
    "* 'audio - visual': probes the difference of activity between listening to some content or reading the same type of content (instructions, stories)\n",
    "* 'computation - sentences': looks at the activity when performing a mental comptation task  versus simply reading sentences.\n",
    "\n",
    "\n"
   ]
  },
  {
   "cell_type": "code",
   "execution_count": null,
   "metadata": {},
   "outputs": [],
   "source": [
    "contrasts = make_localizer_contrasts(design_matrix)\n",
    "from nilearn.plotting import plot_contrast_matrix\n",
    "for key, values in contrasts.items():\n",
    "    plot_contrast_matrix(values, design_matrix=design_matrix)\n",
    "    plt.suptitle(key)\n",
    "\n",
    "plt.show()"
   ]
  },
  {
   "cell_type": "markdown",
   "metadata": {},
   "source": [
    "## A first contrast estimation and plotting\n",
    "\n",
    "As this script will be repeated several times, we encapsulate model\n",
    "fitting and plotting in a function that we call when needed.\n",
    "\n",
    "\n"
   ]
  },
  {
   "cell_type": "code",
   "execution_count": null,
   "metadata": {},
   "outputs": [],
   "source": [
    "from nilearn import plotting\n",
    "\n",
    "def plot_contrast(first_level_model):\n",
    "    \"\"\" Given a first model, specify, estimate and plot the main contrasts\"\"\"\n",
    "    design_matrix = first_level_model.design_matrices_[0]\n",
    "    # Call the contrast specification within the function\n",
    "    contrasts = make_localizer_contrasts(design_matrix)\n",
    "    fig = plt.figure(figsize=(11, 3))\n",
    "    # compute the per-contrast z-map\n",
    "    for index, (contrast_id, contrast_val) in enumerate(contrasts.items()):\n",
    "        ax = plt.subplot(1, len(contrasts), 1 + index)\n",
    "        z_map = first_level_model.compute_contrast(\n",
    "            contrast_val, output_type='z_score')\n",
    "        plotting.plot_stat_map(\n",
    "            z_map, display_mode='z', threshold=3.0, title=contrast_id,\n",
    "            axes=ax, cut_coords=1)"
   ]
  },
  {
   "cell_type": "markdown",
   "metadata": {},
   "source": [
    "Let's run the model and look at the outcome.\n",
    "\n"
   ]
  },
  {
   "cell_type": "code",
   "execution_count": null,
   "metadata": {},
   "outputs": [],
   "source": [
    "plot_contrast(first_level_model)\n",
    "plt.show()"
   ]
  },
  {
   "cell_type": "markdown",
   "metadata": {},
   "source": [
    "## Changing the drift model\n",
    "\n",
    "The drift model is a set of slow oscillating functions\n",
    "(Discrete Cosine transform) with a cut-off frequency. To remove\n",
    "spurious low-frequency effects related to heart rate, breathing and\n",
    "slow drifts in the scanner signal, the standard cutoff frequency\n",
    "is 1/128 Hz ~ 0.01Hz. This is the default value set in the FirstLevelModel\n",
    "function. Depending on the design of the experiment, the user may want to\n",
    "change this value. The cutoff period (1/high_pass) should be set as the\n",
    "longest period between two trials of the same condition multiplied by 2.\n",
    "For instance, if the longest period is 32s, the high_pass frequency shall be\n",
    "1/64 Hz ~ 0.016 Hz. Note that the design matrix has more columns to model\n",
    "drifts in the data.\n",
    "\n"
   ]
  },
  {
   "cell_type": "code",
   "execution_count": null,
   "metadata": {},
   "outputs": [],
   "source": [
    "first_level_model = FirstLevelModel(t_r, high_pass=.016)\n",
    "first_level_model = first_level_model.fit(fmri_img, events=events)\n",
    "design_matrix = first_level_model.design_matrices_[0]\n",
    "plot_design_matrix(design_matrix)"
   ]
  },
  {
   "cell_type": "markdown",
   "metadata": {},
   "source": [
    "Does the model perform worse or better ?\n",
    "\n"
   ]
  },
  {
   "cell_type": "code",
   "execution_count": null,
   "metadata": {},
   "outputs": [],
   "source": [
    "plot_contrast(first_level_model)\n",
    "plt.show()"
   ]
  },
  {
   "cell_type": "markdown",
   "metadata": {},
   "source": [
    "We notice however that this model performs rather poorly.\n",
    "\n",
    "Another solution is to remove these drift terms. Maybe they're simply\n",
    "useless. This is done by setting drift_model to None.\n",
    "\n"
   ]
  },
  {
   "cell_type": "code",
   "execution_count": null,
   "metadata": {},
   "outputs": [],
   "source": [
    "first_level_model = FirstLevelModel(t_r, drift_model=None)\n",
    "first_level_model = first_level_model.fit(fmri_img, events=events)\n",
    "design_matrix = first_level_model.design_matrices_[0]\n",
    "plot_design_matrix(design_matrix)\n",
    "plot_contrast(first_level_model)\n",
    "plt.show()"
   ]
  },
  {
   "cell_type": "markdown",
   "metadata": {},
   "source": [
    "Is it better than the original? No!\n",
    "\n",
    "Note that the design matrix has changed with no drift columns.\n",
    "the event columns, on the other hand, haven't changed.\n",
    "\n",
    "Another alternative to get a drift model is to specify a set of polynomials.\n",
    "Let's take a basis of 5 polynomials.\n",
    "\n"
   ]
  },
  {
   "cell_type": "code",
   "execution_count": null,
   "metadata": {},
   "outputs": [],
   "source": [
    "first_level_model = FirstLevelModel(t_r, drift_model='polynomial',\n",
    "                                    drift_order=5)\n",
    "first_level_model = first_level_model.fit(fmri_img, events=events)\n",
    "design_matrix = first_level_model.design_matrices_[0]\n",
    "plot_design_matrix(design_matrix)\n",
    "plot_contrast(first_level_model)\n",
    "plt.show()"
   ]
  },
  {
   "cell_type": "markdown",
   "metadata": {},
   "source": [
    "Is it good? No better, no worse. Let's turn to another parameter.\n",
    "\n"
   ]
  },
  {
   "cell_type": "markdown",
   "metadata": {},
   "source": [
    "## Changing the hemodynamic response model\n",
    "\n",
    "This is the filter used to convert the event sequence into a\n",
    "reference BOLD signal for the design matrix.\n",
    "\n",
    "The first thing that we can do is to change the default model (the\n",
    "so-called Glover hrf) for the so-called canonical model of SPM\n",
    "--which has a slightly weaker undershoot component.\n",
    "\n"
   ]
  },
  {
   "cell_type": "code",
   "execution_count": null,
   "metadata": {},
   "outputs": [],
   "source": [
    "first_level_model = FirstLevelModel(t_r, hrf_model='spm')\n",
    "first_level_model = first_level_model.fit(fmri_img, events=events)\n",
    "design_matrix = first_level_model.design_matrices_[0]\n",
    "plot_design_matrix(design_matrix)\n",
    "plot_contrast(first_level_model)\n",
    "plt.show()"
   ]
  },
  {
   "cell_type": "markdown",
   "metadata": {},
   "source": [
    "No strong --positive or negative-- effect.\n",
    "\n"
   ]
  },
  {
   "cell_type": "markdown",
   "metadata": {},
   "source": [
    "### Adding a time derivative to the design\n",
    "\n",
    "There seems to be something here. Maybe we could try to go one step further:\n",
    "using not only the so-called canonical hrf, but also its time derivative.\n",
    "Note that in that case, we still perform the contrasts and obtain statistical\n",
    "significance for the main effect --- not the time derivative. This means that\n",
    "the inclusion of a time derivative in the design matrix has the sole effect\n",
    "of discounting timing misspecification from the error term, which would\n",
    "decrease the estimated variance and enhance the statistical significance of\n",
    "the effect. Is that the case?\n",
    "\n"
   ]
  },
  {
   "cell_type": "code",
   "execution_count": null,
   "metadata": {},
   "outputs": [],
   "source": [
    "first_level_model = FirstLevelModel(t_r, hrf_model='spm + derivative')\n",
    "first_level_model = first_level_model.fit(fmri_img, events=events)\n",
    "design_matrix = first_level_model.design_matrices_[0]\n",
    "plot_design_matrix(design_matrix)\n",
    "plot_contrast(first_level_model)\n",
    "plt.show()"
   ]
  },
  {
   "cell_type": "markdown",
   "metadata": {},
   "source": [
    "Not a huge effect, but rather positive overall. We could keep that one.\n",
    "\n",
    "Note that a benefit of this approach is that we can test which voxels are\n",
    "well explained by the derivative term, hinting at misfit regions, a\n",
    "possibly valuable information. This is implemented by an F-test on\n",
    "the time derivative regressors.\n",
    "\n"
   ]
  },
  {
   "cell_type": "code",
   "execution_count": null,
   "metadata": {},
   "outputs": [],
   "source": [
    "contrast_val = np.eye(design_matrix.shape[1])[1:21:2]\n",
    "plot_contrast_matrix(contrast_val, design_matrix)\n",
    "\n",
    "z_map = first_level_model.compute_contrast(\n",
    "    contrast_val, output_type='z_score')\n",
    "plotting.plot_stat_map(\n",
    "    z_map, display_mode='z', threshold=3.0, title='effect of time derivatives')\n",
    "plt.show()"
   ]
  },
  {
   "cell_type": "markdown",
   "metadata": {},
   "source": [
    "There seems to be something here. Maybe we could adjust the\n",
    "timing, by increasing the slice_time_ref parameter from 0 to 0.5. Now the\n",
    "reference for model sampling is not the beginning of the volume\n",
    "acquisition, but the middle of it.\n",
    "\n"
   ]
  },
  {
   "cell_type": "code",
   "execution_count": null,
   "metadata": {},
   "outputs": [],
   "source": [
    "first_level_model = FirstLevelModel(t_r, hrf_model='spm + derivative',\n",
    "                                    slice_time_ref=0.5)\n",
    "first_level_model = first_level_model.fit(fmri_img, events=events)\n",
    "z_map = first_level_model.compute_contrast(\n",
    "    contrast_val, output_type='z_score')\n",
    "plotting.plot_stat_map(\n",
    "    z_map, display_mode='z', threshold=3.0,\n",
    "    title='effect of time derivatives after model shift')\n",
    "plt.show()"
   ]
  },
  {
   "cell_type": "markdown",
   "metadata": {},
   "source": [
    "The time derivatives regressors capture less signal: it's better like that.\n",
    "\n"
   ]
  },
  {
   "cell_type": "markdown",
   "metadata": {},
   "source": [
    "We can also consider adding the so-called dispersion derivative to\n",
    "capture some mis-specification in the shape of the hrf.\n",
    "\n",
    "This is done by specifying `hrf_model='spm + derivative + dispersion'`.\n",
    "\n",
    "\n"
   ]
  },
  {
   "cell_type": "code",
   "execution_count": null,
   "metadata": {},
   "outputs": [],
   "source": [
    "first_level_model = FirstLevelModel(t_r, slice_time_ref=0.5,\n",
    "                                    hrf_model='spm + derivative + dispersion')\n",
    "first_level_model = first_level_model.fit(fmri_img, events=events)\n",
    "design_matrix = first_level_model.design_matrices_[0]\n",
    "plot_design_matrix(design_matrix)\n",
    "plot_contrast(first_level_model)\n",
    "plt.show()"
   ]
  },
  {
   "cell_type": "markdown",
   "metadata": {},
   "source": [
    "Not a huge effect. For the sake of simplicity and readibility, we\n",
    "can drop that one.\n",
    "\n"
   ]
  },
  {
   "cell_type": "markdown",
   "metadata": {},
   "source": [
    "## The noise model: ar(1), ols, or higher order ar?\n",
    "\n",
    "So far,we have implicitly used a lag-1 autoregressive model---aka\n",
    "ar(1)---for the temporal structure of the noise. An alternative\n",
    "choice is to use an ordinary least squares model (ols) that assumes\n",
    "no temporal structure (time-independent noise) or\n",
    "to use an autoregressive model with a higher order,\n",
    "for example a third order autoregressive model---aka ar(3).\n",
    "\n",
    "First we recompute using the `spm + derivative` hrf model, the\n",
    "slice_time_ref parameter chosen above, and explicitly set\n",
    "the noise model to be ar(1).\n",
    "\n"
   ]
  },
  {
   "cell_type": "code",
   "execution_count": null,
   "metadata": {},
   "outputs": [],
   "source": [
    "first_level_model = FirstLevelModel(t_r, slice_time_ref=0.5,\n",
    "                                    hrf_model='spm + derivative',\n",
    "                                    noise_model='ar1')\n",
    "first_level_model = first_level_model.fit(fmri_img, events=events)\n",
    "plot_contrast(first_level_model)\n",
    "plt.show()"
   ]
  },
  {
   "cell_type": "markdown",
   "metadata": {},
   "source": [
    "Next we change the noise model to ols and observe the difference\n",
    "relative to the ar(1) model.\n",
    "\n"
   ]
  },
  {
   "cell_type": "code",
   "execution_count": null,
   "metadata": {},
   "outputs": [],
   "source": [
    "first_level_model = FirstLevelModel(t_r, slice_time_ref=0.5,\n",
    "                                    hrf_model='spm + derivative',\n",
    "                                    noise_model='ols')\n",
    "first_level_model = first_level_model.fit(fmri_img, events=events)\n",
    "plot_contrast(first_level_model)\n",
    "plt.show()"
   ]
  },
  {
   "cell_type": "markdown",
   "metadata": {},
   "source": [
    "While the difference is not obvious you should rather stick to the\n",
    "ar(1) model, which is arguably more accurate.\n",
    "\n",
    "Alternatively we can include more terms in the autoregressive model to\n",
    "account for greater temporal complexity in the noise structure.\n",
    "\n"
   ]
  },
  {
   "cell_type": "code",
   "execution_count": null,
   "metadata": {},
   "outputs": [],
   "source": [
    "first_level_model = FirstLevelModel(t_r, slice_time_ref=0.5,\n",
    "                                    hrf_model='spm + derivative',\n",
    "                                    noise_model='ar3')\n",
    "first_level_model = first_level_model.fit(fmri_img, events=events)\n",
    "plot_contrast(first_level_model)\n",
    "plt.show()"
   ]
  },
  {
   "cell_type": "markdown",
   "metadata": {},
   "source": [
    "This noise model arguably reduces the amount of spurious activity.\n",
    "However, as the difference is not obvious you may wish to stick to the\n",
    "ar(1) model, which is computationally more efficient.\n",
    "\n"
   ]
  },
  {
   "cell_type": "markdown",
   "metadata": {},
   "source": [
    "## Removing confounds\n",
    "\n",
    "A problematic feature of fMRI is the presence of uncontrolled\n",
    "confounds in the data, due to scanner instabilities (spikes) or\n",
    "physiological phenomena, such as motion, heart and\n",
    "respiration-related blood oxygenation fluctuations.  Side\n",
    "measurements are sometimes acquired to characterize these\n",
    "effects. Here we don't have access to those.  What we can do instead\n",
    "is to estimate confounding effects from the data themselves, using\n",
    "the CompCor approach, and take those into account in the model.\n",
    "\n",
    "For this we rely on the so-called `high_variance_confounds`_\n",
    "routine of Nilearn.\n",
    "\n",
    "\n"
   ]
  },
  {
   "cell_type": "code",
   "execution_count": null,
   "metadata": {},
   "outputs": [],
   "source": [
    "from nilearn.image import high_variance_confounds\n",
    "confounds = pd.DataFrame(high_variance_confounds(fmri_img, percentile=1))\n",
    "first_level_model = FirstLevelModel(t_r, hrf_model='spm + derivative',\n",
    "                                    slice_time_ref=0.5)\n",
    "first_level_model = first_level_model.fit(fmri_img, events=events,\n",
    "                                          confounds=confounds)\n",
    "design_matrix = first_level_model.design_matrices_[0]\n",
    "plot_design_matrix(design_matrix)\n",
    "plot_contrast(first_level_model)\n",
    "plt.show()"
   ]
  },
  {
   "cell_type": "markdown",
   "metadata": {},
   "source": [
    "Note the five additional columns in the design matrix.\n",
    "\n",
    "The effect on the activation maps is complex: auditory/visual effects are\n",
    "killed, probably because they were somewhat colinear to the confounds. On the\n",
    "other hand, some of the maps become cleaner (horizontal-vertical,\n",
    "computation) after this addition.\n",
    "\n"
   ]
  },
  {
   "cell_type": "markdown",
   "metadata": {},
   "source": [
    "## Smoothing\n",
    "\n",
    "Smoothing is a regularization of the model. It has two benefits:\n",
    "decrease the noise level in images, and reduce the discrepancy\n",
    "between individuals. The drawback is that it biases the shape and\n",
    "position of activation. Here, we simply illustrate the statistical\n",
    "gains.  We use a mild smoothing of 5mm full-width at half maximum\n",
    "(fwhm).\n",
    "\n"
   ]
  },
  {
   "cell_type": "code",
   "execution_count": null,
   "metadata": {},
   "outputs": [],
   "source": [
    "first_level_model = FirstLevelModel(\n",
    "    t_r, hrf_model='spm + derivative', smoothing_fwhm=5,\n",
    "    slice_time_ref=0.5).fit(fmri_img, events=events, confounds=confounds)\n",
    "design_matrix = first_level_model.design_matrices_[0]\n",
    "plot_design_matrix(design_matrix)\n",
    "plot_contrast(first_level_model)\n",
    "plt.show()"
   ]
  },
  {
   "cell_type": "markdown",
   "metadata": {},
   "source": [
    "The design is unchanged but the maps are smoother and more contrasted.\n",
    "\n",
    "\n"
   ]
  },
  {
   "cell_type": "markdown",
   "metadata": {},
   "source": [
    "## Masking\n",
    "\n",
    "Masking consists in selecting the region of the image on which the\n",
    "model is run: it is useless to run it outside of the brain.\n",
    "\n",
    "The approach taken by FirstLeveModel is to estimate it from the fMRI\n",
    "data itself when no mask is explicitly provided.  Since the data\n",
    "have been resampled into MNI space, we can use instead a mask of the\n",
    "grey matter in MNI space. The benefit is that it makes voxel-level\n",
    "comparisons easier across subjects and datasets, and removes\n",
    "non-grey matter regions, in which no BOLD signal is expected.  The\n",
    "downside is that the mask may not fit very well this particular\n",
    "data.\n",
    "\n"
   ]
  },
  {
   "cell_type": "code",
   "execution_count": null,
   "metadata": {},
   "outputs": [],
   "source": [
    "data_mask = first_level_model.masker_.mask_img_\n",
    "from nilearn.datasets import fetch_icbm152_brain_gm_mask\n",
    "icbm_mask = fetch_icbm152_brain_gm_mask()\n",
    "\n",
    "from nilearn.plotting import plot_roi\n",
    "plt.figure(figsize=(16, 4))\n",
    "ax = plt.subplot(121)\n",
    "plot_roi(icbm_mask, title='ICBM mask', axes=ax)\n",
    "ax = plt.subplot(122)\n",
    "plot_roi(data_mask, title='Data-driven mask', axes=ax)\n",
    "plt.show()"
   ]
  },
  {
   "cell_type": "markdown",
   "metadata": {},
   "source": [
    "For the sake of time saving, we resample icbm_mask to our data.\n",
    "For this we call the resample_to_img routine of Nilearn.\n",
    "We use interpolation = 'nearest' to keep the mask as a binary image.\n",
    "\n"
   ]
  },
  {
   "cell_type": "code",
   "execution_count": null,
   "metadata": {},
   "outputs": [],
   "source": [
    "from nilearn.image import resample_to_img\n",
    "resampled_icbm_mask = resample_to_img(icbm_mask, data_mask,\n",
    "                                      interpolation='nearest')"
   ]
  },
  {
   "cell_type": "markdown",
   "metadata": {},
   "source": [
    "Impact on the first-level model.\n",
    "\n"
   ]
  },
  {
   "cell_type": "code",
   "execution_count": null,
   "metadata": {},
   "outputs": [],
   "source": [
    "first_level_model = FirstLevelModel(\n",
    "    t_r, hrf_model='spm + derivative', smoothing_fwhm=5, slice_time_ref=0.5,\n",
    "    mask_img=resampled_icbm_mask).fit(\n",
    "        fmri_img, events=events, confounds=confounds)\n",
    "design_matrix = first_level_model.design_matrices_[0]\n",
    "plot_design_matrix(design_matrix)\n",
    "plot_contrast(first_level_model)\n",
    "plt.show()"
   ]
  },
  {
   "cell_type": "markdown",
   "metadata": {},
   "source": [
    "Note that it removed spurious spots in the white matter.\n",
    "\n"
   ]
  },
  {
   "cell_type": "markdown",
   "metadata": {},
   "source": [
    "## Conclusion\n",
    "\n",
    "Interestingly, the model used here seems quite resilient to\n",
    "manipulation of modeling parameters: this is reassuring. It shows\n",
    "that Nilearn defaults ('cosine' drift, cutoff=128s, 'glover' hrf,\n",
    "ar(1) model) are actually reasonable.  Note that these conclusions\n",
    "are specific to this dataset and may vary with other ones.\n",
    "\n"
   ]
  }
 ],
 "metadata": {
  "kernelspec": {
   "display_name": "Python 3",
   "language": "python",
   "name": "python3"
  },
  "language_info": {
   "codemirror_mode": {
    "name": "ipython",
    "version": 3
   },
   "file_extension": ".py",
   "mimetype": "text/x-python",
   "name": "python",
   "nbconvert_exporter": "python",
   "pygments_lexer": "ipython3",
   "version": "3.7.5"
  }
 },
 "nbformat": 4,
 "nbformat_minor": 1
}

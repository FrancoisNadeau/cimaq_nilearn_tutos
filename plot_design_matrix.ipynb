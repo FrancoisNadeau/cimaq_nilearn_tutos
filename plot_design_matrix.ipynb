{
 "cells": [
  {
   "cell_type": "code",
   "execution_count": null,
   "metadata": {},
   "outputs": [],
   "source": [
    "%matplotlib inline"
   ]
  },
  {
   "cell_type": "markdown",
   "metadata": {},
   "source": [
    "\n",
    "# Examples of design matrices\n",
    "\n",
    "Three examples of design matrices specification and computation for first-level\n",
    "fMRI data analysis (event-related design, block design, FIR design).\n",
    "\n",
    "This examples requires matplotlib.\n"
   ]
  },
  {
   "cell_type": "code",
   "execution_count": null,
   "metadata": {},
   "outputs": [],
   "source": [
    "try:\n",
    "    import matplotlib.pyplot as plt\n",
    "except ImportError:\n",
    "    raise RuntimeError(\"This script needs the matplotlib library\")"
   ]
  },
  {
   "cell_type": "markdown",
   "metadata": {},
   "source": [
    "## Define parameters\n",
    "At first, we define parameters related to the images acquisition.\n",
    "\n"
   ]
  },
  {
   "cell_type": "code",
   "execution_count": null,
   "metadata": {},
   "outputs": [],
   "source": [
    "import numpy as np\n",
    "tr = 1.0  # repetition time is 1 second\n",
    "n_scans = 128  # the acquisition comprises 128 scans\n",
    "frame_times = np.arange(n_scans) * tr  # here are the correspoding frame times"
   ]
  },
  {
   "cell_type": "markdown",
   "metadata": {},
   "source": [
    "Then we define parameters related to the experimental design.\n",
    "\n"
   ]
  },
  {
   "cell_type": "code",
   "execution_count": null,
   "metadata": {},
   "outputs": [],
   "source": [
    "# these are the types of the different trials\n",
    "conditions = ['c0', 'c0', 'c0', 'c1', 'c1', 'c1', 'c3', 'c3', 'c3']\n",
    "duration = [1., 1., 1., 1., 1., 1., 1., 1., 1.]\n",
    "# these are the corresponding onset times\n",
    "onsets = [30., 70., 100., 10., 30., 90., 30., 40., 60.]\n",
    "# Next, we simulate 6 motion parameters jointly observed with fMRI acquisitions\n",
    "motion = np.cumsum(np.random.randn(n_scans, 6), 0)\n",
    "# The 6 parameters correspond to three translations and three\n",
    "# rotations describing rigid body motion\n",
    "add_reg_names = ['tx', 'ty', 'tz', 'rx', 'ry', 'rz']"
   ]
  },
  {
   "cell_type": "markdown",
   "metadata": {},
   "source": [
    "## Create design matrices\n",
    "The same parameters allow us to obtain a variety of design matrices.\n",
    "We first create an events object.\n",
    "\n"
   ]
  },
  {
   "cell_type": "code",
   "execution_count": null,
   "metadata": {},
   "outputs": [],
   "source": [
    "import pandas as pd\n",
    "events = pd.DataFrame({'trial_type': conditions, 'onset': onsets,\n",
    "                       'duration': duration})"
   ]
  },
  {
   "cell_type": "markdown",
   "metadata": {},
   "source": [
    "We sample the events into a design matrix, also including additional\n",
    "regressors.\n",
    "\n"
   ]
  },
  {
   "cell_type": "code",
   "execution_count": null,
   "metadata": {},
   "outputs": [],
   "source": [
    "hrf_model = 'glover'\n",
    "from nilearn.glm.first_level import make_first_level_design_matrix\n",
    "X1 = make_first_level_design_matrix(\n",
    "    frame_times, events, drift_model='polynomial', drift_order=3,\n",
    "    add_regs=motion, add_reg_names=add_reg_names, hrf_model=hrf_model)"
   ]
  },
  {
   "cell_type": "markdown",
   "metadata": {},
   "source": [
    "Now we compute a block design matrix. We add duration to create the blocks.\n",
    "For this we first define an event structure that includes the duration\n",
    "parameter.\n",
    "\n"
   ]
  },
  {
   "cell_type": "code",
   "execution_count": null,
   "metadata": {},
   "outputs": [],
   "source": [
    "duration = 7. * np.ones(len(conditions))\n",
    "events = pd.DataFrame({'trial_type': conditions, 'onset': onsets,\n",
    "                       'duration': duration})"
   ]
  },
  {
   "cell_type": "markdown",
   "metadata": {},
   "source": [
    "Then we sample the design matrix.\n",
    "\n"
   ]
  },
  {
   "cell_type": "code",
   "execution_count": null,
   "metadata": {},
   "outputs": [],
   "source": [
    "X2 = make_first_level_design_matrix(frame_times, events,\n",
    "                                    drift_model='polynomial', drift_order=3,\n",
    "                                    hrf_model=hrf_model)"
   ]
  },
  {
   "cell_type": "markdown",
   "metadata": {},
   "source": [
    "Finally we compute a FIR model\n",
    "\n"
   ]
  },
  {
   "cell_type": "code",
   "execution_count": null,
   "metadata": {},
   "outputs": [],
   "source": [
    "events = pd.DataFrame({'trial_type': conditions, 'onset': onsets,\n",
    "                       'duration': duration})\n",
    "hrf_model = 'FIR'\n",
    "X3 = make_first_level_design_matrix(frame_times, events, hrf_model='fir',\n",
    "                                    drift_model='polynomial', drift_order=3,\n",
    "                                    fir_delays=np.arange(1, 6))"
   ]
  },
  {
   "cell_type": "markdown",
   "metadata": {},
   "source": [
    "Here are the three designs side by side.\n",
    "\n"
   ]
  },
  {
   "cell_type": "code",
   "execution_count": null,
   "metadata": {},
   "outputs": [],
   "source": [
    "from nilearn.plotting import plot_design_matrix\n",
    "fig, (ax1, ax2, ax3) = plt.subplots(figsize=(10, 6), nrows=1, ncols=3)\n",
    "plot_design_matrix(X1, ax=ax1)\n",
    "ax1.set_title('Event-related design matrix', fontsize=12)\n",
    "plot_design_matrix(X2, ax=ax2)\n",
    "ax2.set_title('Block design matrix', fontsize=12)\n",
    "plot_design_matrix(X3, ax=ax3)\n",
    "ax3.set_title('FIR design matrix', fontsize=12)"
   ]
  },
  {
   "cell_type": "markdown",
   "metadata": {},
   "source": [
    "Let's improve the layout and show the result.\n",
    "\n"
   ]
  },
  {
   "cell_type": "code",
   "execution_count": null,
   "metadata": {},
   "outputs": [],
   "source": [
    "plt.subplots_adjust(left=0.08, top=0.9, bottom=0.21, right=0.96, wspace=0.3)\n",
    "plt.show()"
   ]
  }
 ],
 "metadata": {
  "kernelspec": {
   "display_name": "Python 3",
   "language": "python",
   "name": "python3"
  },
  "language_info": {
   "codemirror_mode": {
    "name": "ipython",
    "version": 3
   },
   "file_extension": ".py",
   "mimetype": "text/x-python",
   "name": "python",
   "nbconvert_exporter": "python",
   "pygments_lexer": "ipython3",
   "version": "3.7.5"
  }
 },
 "nbformat": 4,
 "nbformat_minor": 1
}

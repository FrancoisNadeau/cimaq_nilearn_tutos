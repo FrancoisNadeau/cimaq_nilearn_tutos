{
 "cells": [
  {
   "cell_type": "code",
   "execution_count": 5,
   "id": "e3f81afe",
   "metadata": {},
   "outputs": [],
   "source": [
    "import gzip\n",
    "import io\n",
    "import json\n",
    "import nilearn\n",
    "import os\n",
    "import tarfile\n",
    "import tempfile\n",
    "import nibabel as nib\n",
    "import numpy as np\n",
    "import pandas as pd\n",
    "import seaborn as sns\n",
    "from bids_validator import BIDSValidator\n",
    "\n",
    "from io import BytesIO\n",
    "from os import listdir as ls\n",
    "from os.path import basename as bname\n",
    "from os.path import dirname as dname\n",
    "from os.path import expanduser as xpu\n",
    "from os.path import join as pjoin\n",
    "from pandas import DataFrame as df\n",
    "from tempfile import TemporaryDirectory as tmpdir\n",
    "from tempfile import TemporaryFile as tmpfile\n",
    "from typing import Union\n",
    "\n",
    "import loadutils as lu\n",
    "import sniffbytes as snif\n",
    "import scanzip as szip\n",
    "import shutil\n",
    "\n",
    "from nilearn import masking\n",
    "from nilearn.plotting import plot_stat_map, plot_anat, plot_img, plot_epi\n",
    "from nilearn.image import concat_imgs, mean_img\n",
    "from nilearn.input_data import NiftiMasker\n",
    "\n",
    "def lst_intersection(lst1, lst2):\n",
    "    '''\n",
    "    Source: https://www.geeksforgeeks.org/python-intersection-two-lists/\n",
    "    '''\n",
    "    return [value for value in lst1 if value in set(lst2)]\n",
    "\n",
    "def read_json(fpath:Union[str, os.PathLike]) -> dict:\n",
    "    with open(fpath, mode='r', encoding='UTF-8') as jfile:\n",
    "        jdict = json.load(jfile)\n",
    "    jfile.close()\n",
    "    return jdict\n",
    "        \n",
    "# with tmpfile(prefix=os.getcwd()+\"/\",\n",
    "#             dir=os.path.splitext(bname(src_path))[0]+\"/\",\n",
    "#             suffix=os.path.splitext(topname)[0]) as adir:\n",
    "#     print(adir.name)\n",
    "# tardir = xpu('~/../../data/cisl/DATA/cimaq_20190901/sourcedata')\n",
    "# topname = 'cimaq_dicoms_20190901_v3.tar.gz'\n",
    "# member = 'seriesUID_qc.tsv'\n",
    "# tardir = '/media/francois/seagate_1tb/cimaq_dicoms_20190901'\n",
    "# help(tempfile)\n",
    "# src_path = pjoin(tardir, topname)\n"
   ]
  },
  {
   "cell_type": "code",
   "execution_count": 6,
   "id": "46b49c9d",
   "metadata": {},
   "outputs": [
    {
     "name": "stdout",
     "output_type": "stream",
     "text": [
      "Anatomical nifti image (3D) is located at: /home/fnadeau/nilearn_data/haxby2001/mask.nii.gz\n",
      "Functional nifti image (4D) is located at: /home/fnadeau/nilearn_data/haxby2001/subj2/bold.nii.gz\n"
     ]
    }
   ],
   "source": [
    "source_url = 'https://nilearn.github.io/auto_examples/02_decoding/plot_haxby_searchlight.html#sphx-glr-auto-examples-02-decoding-plot-haxby-searchlight-py'\n",
    "import pandas as pd\n",
    "from nilearn import datasets\n",
    "from nilearn.image import new_img_like, load_img, get_data\n",
    "\n",
    "# We fetch 2nd subject from haxby datasets (which is default)\n",
    "haxby_dataset = datasets.fetch_haxby()\n",
    "\n",
    "# print basic information on the dataset\n",
    "print('Anatomical nifti image (3D) is located at: %s' % haxby_dataset.mask)\n",
    "print('Functional nifti image (4D) is located at: %s' % haxby_dataset.func[0])\n",
    "\n",
    "fmri_filename = haxby_dataset.func[0]\n",
    "labels = pd.read_csv(haxby_dataset.session_target[0], sep=\" \")\n",
    "y = labels['labels']\n",
    "session = labels['chunks']\n"
   ]
  },
  {
   "cell_type": "code",
   "execution_count": 20,
   "id": "145fc689",
   "metadata": {},
   "outputs": [
    {
     "data": {
      "text/plain": [
       "21      face\n",
       "22      face\n",
       "23      face\n",
       "24      face\n",
       "25      face\n",
       "        ... \n",
       "1398    face\n",
       "1399    face\n",
       "1400    face\n",
       "1401    face\n",
       "1402    face\n",
       "Name: labels, Length: 216, dtype: object"
      ]
     },
     "execution_count": 20,
     "metadata": {},
     "output_type": "execute_result"
    }
   ],
   "source": [
    "y[labels['labels'].isin(['face', 'house'])]"
   ]
  },
  {
   "cell_type": "code",
   "execution_count": 8,
   "id": "07755e65",
   "metadata": {},
   "outputs": [
    {
     "data": {
      "text/plain": [
       "21      face\n",
       "22      face\n",
       "23      face\n",
       "24      face\n",
       "25      face\n",
       "        ... \n",
       "1398    face\n",
       "1399    face\n",
       "1400    face\n",
       "1401    face\n",
       "1402    face\n",
       "Name: labels, Length: 216, dtype: object"
      ]
     },
     "execution_count": 8,
     "metadata": {},
     "output_type": "execute_result"
    }
   ],
   "source": [
    "from nilearn.image import index_img\n",
    "condition_mask = y.isin(['face', 'house'])\n",
    "\n",
    "fmri_img = index_img(fmri_filename, condition_mask)\n",
    "y, session = y[condition_mask], session[condition_mask]\n",
    "y"
   ]
  },
  {
   "cell_type": "code",
   "execution_count": 9,
   "id": "034342dc",
   "metadata": {},
   "outputs": [
    {
     "data": {
      "text/plain": [
       "0       False\n",
       "1       False\n",
       "2       False\n",
       "3       False\n",
       "4       False\n",
       "        ...  \n",
       "1447    False\n",
       "1448    False\n",
       "1449    False\n",
       "1450    False\n",
       "1451    False\n",
       "Name: labels, Length: 1452, dtype: bool"
      ]
     },
     "execution_count": 9,
     "metadata": {},
     "output_type": "execute_result"
    }
   ],
   "source": [
    "condition_mask"
   ]
  },
  {
   "cell_type": "code",
   "execution_count": 10,
   "id": "d1087c7f",
   "metadata": {},
   "outputs": [],
   "source": [
    "import numpy as np\n",
    "\n",
    "# 3D mask\n",
    "mask_img = load_img(haxby_dataset.mask)\n",
    "\n",
    "# .astype() makes a copy.\n",
    "process_mask = get_data(mask_img).astype(np.int)\n",
    "picked_slice = 29\n",
    "process_mask[..., (picked_slice + 1):] = 0\n",
    "process_mask[..., :picked_slice] = 0\n",
    "process_mask[:, 30:] = 0\n",
    "process_mask_img = new_img_like(mask_img, process_mask)\n"
   ]
  },
  {
   "cell_type": "code",
   "execution_count": 11,
   "id": "061787f0",
   "metadata": {},
   "outputs": [
    {
     "data": {
      "text/plain": [
       "<nilearn.plotting.displays.OrthoSlicer at 0x7f8b59737910>"
      ]
     },
     "execution_count": 11,
     "metadata": {},
     "output_type": "execute_result"
    },
    {
     "data": {
      "image/png": "[encoded data removed]",
      "text/plain": [
       "<Figure size 475.2x187.2 with 4 Axes>"
      ]
     },
     "metadata": {},
     "output_type": "display_data"
    }
   ],
   "source": [
    "nilearn.plotting.plot_img(mask_img)"
   ]
  },
  {
   "cell_type": "code",
   "execution_count": 12,
   "id": "6a832c03",
   "metadata": {},
   "outputs": [
    {
     "name": "stderr",
     "output_type": "stream",
     "text": [
      "[Parallel(n_jobs=1)]: Using backend SequentialBackend with 1 concurrent workers.\n",
      "[Parallel(n_jobs=1)]: Done   1 out of   1 | elapsed:   54.9s finished\n"
     ]
    },
    {
     "data": {
      "text/plain": [
       "SearchLight(cv=KFold(n_splits=4, random_state=None, shuffle=False),\n",
       "            mask_img=<nibabel.nifti1.Nifti1Image object at 0x7f8b65af7750>,\n",
       "            process_mask_img=<nibabel.nifti1.Nifti1Image object at 0x7f8b65b24110>,\n",
       "            radius=5.6, verbose=1)"
      ]
     },
     "execution_count": 12,
     "metadata": {},
     "output_type": "execute_result"
    }
   ],
   "source": [
    "# Make processing parallel\n",
    "# /!\\ As each thread will print its progress, n_jobs > 1 could mess up the\n",
    "#     information output.\n",
    "n_jobs = 1\n",
    "\n",
    "# Define the cross-validation scheme used for validation.\n",
    "# Here we use a KFold cross-validation on the session, which corresponds to\n",
    "# splitting the samples in 4 folds and make 4 runs using each fold as a test\n",
    "# set once and the others as learning sets\n",
    "from sklearn.model_selection import KFold\n",
    "cv = KFold(n_splits=4)\n",
    "\n",
    "import nilearn.decoding\n",
    "# The radius is the one of the Searchlight sphere that will scan the volume\n",
    "searchlight = nilearn.decoding.SearchLight(\n",
    "    mask_img,\n",
    "    process_mask_img=process_mask_img,\n",
    "    radius=5.6, n_jobs=n_jobs,\n",
    "    verbose=1, cv=cv)\n",
    "searchlight.fit(fmri_img, y)"
   ]
  },
  {
   "cell_type": "code",
   "execution_count": 13,
   "id": "a0744e9d",
   "metadata": {},
   "outputs": [
    {
     "name": "stderr",
     "output_type": "stream",
     "text": [
      "/home/fnadeau/myenv/lib/python3.7/site-packages/nilearn/_utils/helpers.py:145: FutureWarning: The parameter \"sessions\" will be removed in 0.9.0 release of Nilearn. Please use the parameter \"runs\" instead.\n",
      "  return func(*args, **kwargs)\n"
     ]
    }
   ],
   "source": [
    "from nilearn.input_data import NiftiMasker\n",
    "\n",
    "# For decoding, standardizing is often very important\n",
    "nifti_masker = NiftiMasker(mask_img=mask_img, sessions=session,\n",
    "                           standardize=True, memory='nilearn_cache',\n",
    "                           memory_level=1)\n",
    "fmri_masked = nifti_masker.fit_transform(fmri_img)\n",
    "\n",
    "from sklearn.feature_selection import f_classif\n",
    "f_values, p_values = f_classif(fmri_masked, y)\n",
    "p_values = -np.log10(p_values)\n",
    "p_values[p_values > 10] = 10\n",
    "p_unmasked = get_data(nifti_masker.inverse_transform(p_values))\n"
   ]
  },
  {
   "cell_type": "code",
   "execution_count": 14,
   "id": "677b83bc",
   "metadata": {},
   "outputs": [
    {
     "name": "stderr",
     "output_type": "stream",
     "text": [
      "/home/fnadeau/myenv/lib/python3.7/site-packages/nilearn/plotting/displays.py:1751: MatplotlibDeprecationWarning: Adding an axes using the same arguments as a previous axes currently reuses the earlier instance.  In a future version, a new instance will always be created and returned.  Meanwhile, this warning can be suppressed, and the future behavior ensured, by passing a unique label to each axes instance.\n",
      "  fraction * (x1 - x0), y1 - y0])\n"
     ]
    },
    {
     "data": {
      "image/png": "[encoded data removed]",
      "text/plain": [
       "<Figure size 158.4x165.6 with 1 Axes>"
      ]
     },
     "metadata": {},
     "output_type": "display_data"
    },
    {
     "data": {
      "image/png": "[encoded data removed]",
      "text/plain": [
       "<Figure size 158.4x165.6 with 1 Axes>"
      ]
     },
     "metadata": {},
     "output_type": "display_data"
    }
   ],
   "source": [
    "from nilearn import image\n",
    "mean_fmri = image.mean_img(fmri_img)\n",
    "\n",
    "from nilearn.plotting import plot_stat_map, plot_img, show\n",
    "searchlight_img = new_img_like(mean_fmri, searchlight.scores_)\n",
    "\n",
    "# Because scores are not a zero-center test statistics, we cannot use\n",
    "# plot_stat_map\n",
    "plot_img(searchlight_img, bg_img=mean_fmri,\n",
    "         title=\"Searchlight\", display_mode=\"z\", cut_coords=[-9],\n",
    "         vmin=.42, cmap='hot', threshold=.2, black_bg=True)\n",
    "\n",
    "# F_score results\n",
    "p_ma = np.ma.array(p_unmasked, mask=np.logical_not(process_mask))\n",
    "f_score_img = new_img_like(mean_fmri, p_ma)\n",
    "plot_stat_map(f_score_img, mean_fmri,\n",
    "              title=\"F-scores\", display_mode=\"z\",\n",
    "              cut_coords=[-9],\n",
    "              colorbar=False)\n",
    "\n",
    "show()"
   ]
  },
  {
   "cell_type": "code",
   "execution_count": null,
   "id": "585fe18b",
   "metadata": {},
   "outputs": [],
   "source": []
  }
 ],
 "metadata": {
  "kernelspec": {
   "display_name": "Python 3",
   "language": "python",
   "name": "python3"
  },
  "language_info": {
   "codemirror_mode": {
    "name": "ipython",
    "version": 3
   },
   "file_extension": ".py",
   "mimetype": "text/x-python",
   "name": "python",
   "nbconvert_exporter": "python",
   "pygments_lexer": "ipython3",
   "version": "3.7.5"
  }
 },
 "nbformat": 4,
 "nbformat_minor": 5
}
